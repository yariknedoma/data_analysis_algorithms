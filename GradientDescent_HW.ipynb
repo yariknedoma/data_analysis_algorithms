{
 "cells": [
  {
   "cell_type": "markdown",
   "metadata": {
    "id": "6CT91Az0XVqf"
   },
   "source": [
    "## <center> Практическое задание"
   ]
  },
  {
   "cell_type": "markdown",
   "metadata": {
    "id": "O-N7TROwXVqf"
   },
   "source": [
    "**1. Подберите скорость обучения($\\alpha$) и количество итераций:**"
   ]
  },
  {
   "cell_type": "code",
   "execution_count": 136,
   "metadata": {},
   "outputs": [
    {
     "data": {
      "text/plain": [
       "array([0.03  , 0.0325, 0.035 , 0.0375, 0.04  , 0.0425, 0.045 , 0.0475,\n",
       "       0.05  , 0.0525, 0.055 , 0.0575, 0.06  , 0.0625, 0.065 , 0.0675,\n",
       "       0.07  ])"
      ]
     },
     "execution_count": 136,
     "metadata": {},
     "output_type": "execute_result"
    }
   ],
   "source": [
    "learning_rates = np.arange(0.03, 0.07, 0.0025)\n",
    "learning_rates"
   ]
  },
  {
   "cell_type": "code",
   "execution_count": 137,
   "metadata": {},
   "outputs": [
    {
     "data": {
      "text/plain": [
       "[(0.03, 45.9375, 339),\n",
       " (0.0325, 45.9375, 313),\n",
       " (0.035, 45.9375, 290),\n",
       " (0.0375, 45.9375, 270),\n",
       " (0.04, 45.9375, 253),\n",
       " (0.0425, 45.9375, 238),\n",
       " (0.045, 45.9375, 224),\n",
       " (0.0475, 45.9375, 212),\n",
       " (0.05, 45.9375, 201),\n",
       " (0.0525, 45.9375, 192),\n",
       " (0.055, 45.9375, 183),\n",
       " (0.0575, 45.9375, 175),\n",
       " (0.06, 45.9375, 167),\n",
       " (0.0625, 45.9375, 160),\n",
       " (0.065, 45.9375, 275),\n",
       " (0.0675, 1.3621874697167296e+49, 1499),\n",
       " (0.07, 4.183702888782334e+140, 1499)]"
      ]
     },
     "execution_count": 137,
     "metadata": {},
     "output_type": "execute_result"
    }
   ],
   "source": [
    "lr_results = []\n",
    "n = X.shape[1]\n",
    "\n",
    "for a in learning_rates:\n",
    "    W = np.array([1, 0.5])\n",
    "    err = 0\n",
    "    for i in range(1500):\n",
    "        y_pred = W @ X\n",
    "        err = calc_mse(y, y_pred)\n",
    "        for ii in range(W.shape[0]):\n",
    "            W[ii] -= a * (1 / n * 2 * np.sum(X[ii] * (y_pred - y)))\n",
    "        if round(err, 6) == 45.937500:\n",
    "            break\n",
    "    lr_results.append((round(a, 4), round(err, 4), i))\n",
    "lr_results            "
   ]
  },
  {
   "cell_type": "code",
   "execution_count": 138,
   "metadata": {},
   "outputs": [
    {
     "data": {
      "text/plain": [
       "0.0625"
      ]
     },
     "execution_count": 138,
     "metadata": {},
     "output_type": "execute_result"
    }
   ],
   "source": [
    "# the mose effective learning rate for this particular data\n",
    "best_alpha = sorted(lr_results, key = lambda x: x[2])[0][0]\n",
    "best_alpha"
   ]
  },
  {
   "cell_type": "markdown",
   "metadata": {
    "id": "QKhBG_ClXVqi"
   },
   "source": [
    "**2\\*. В этом коде мы избавляемся от итераций по весам, но тут есть ошибка, исправьте ее:**"
   ]
  },
  {
   "cell_type": "code",
   "execution_count": 139,
   "metadata": {
    "id": "xDHfdmYUXVqi",
    "pycharm": {
     "name": "#%%\n"
    },
    "scrolled": true
   },
   "outputs": [
    {
     "name": "stdout",
     "output_type": "stream",
     "text": [
      "0 [ 7.8875 21.75  ] 3173.15\n",
      "50 [45.80368723  4.19802593] 47.209998294604716\n",
      "100 [47.18237366  3.91995694] 45.939023829880746\n",
      "150 [47.23041329  3.91103378] 45.93750183959022\n",
      "error = 45.93750047982278 after 160 iterations\n"
     ]
    }
   ],
   "source": [
    "W = np.array([1, 0.5])\n",
    "for i in range(300):\n",
    "    y_pred = np.dot(W, X)\n",
    "    err = calc_mse(y, y_pred)\n",
    "    W -= 2 * best_alpha * np.dot(X, (y_pred - y)) / n\n",
    "    \n",
    "    if i % 50 == 0:\n",
    "        print(i, W, err)\n",
    "        \n",
    "    if round(err, 6) == 45.937500:\n",
    "        print(f'error = {err} after {i} iterations')\n",
    "        break\n",
    "    "
   ]
  }
 ],
 "metadata": {
  "colab": {
   "name": "HW_Lesson1.ipynb",
   "provenance": []
  },
  "kernelspec": {
   "display_name": "Python 3",
   "language": "python",
   "name": "python3"
  },
  "language_info": {
   "codemirror_mode": {
    "name": "ipython",
    "version": 3
   },
   "file_extension": ".py",
   "mimetype": "text/x-python",
   "name": "python",
   "nbconvert_exporter": "python",
   "pygments_lexer": "ipython3",
   "version": "3.8.5"
  }
 },
 "nbformat": 4,
 "nbformat_minor": 1
}
